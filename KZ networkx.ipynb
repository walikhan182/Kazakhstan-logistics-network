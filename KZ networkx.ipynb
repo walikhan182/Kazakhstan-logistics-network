{
 "cells": [
  {
   "cell_type": "code",
   "execution_count": 27,
   "metadata": {},
   "outputs": [],
   "source": [
    "import networkx as nx\n",
    "\n",
    "kz = nx.Graph()"
   ]
  },
  {
   "cell_type": "code",
   "execution_count": 28,
   "metadata": {},
   "outputs": [],
   "source": [
    "kz.add_edge('astana', 'kokshetau')\n",
    "kz.add_edge('astana', 'karaganda')\n",
    "kz.add_edge('astana', 'pavlodar')\n",
    "kz.add_edge('astana', 'semey')\n",
    "kz.add_edge('astana', 'kostanay')\n",
    "kz.add_edge('karaganda', 'almaty')\n",
    "kz.add_edge('karaganda', 'zhezkazgan')\n",
    "kz.add_edge('karaganda', 'pavlodar')\n",
    "kz.add_edge('karaganda', 'taldykorgan')\n",
    "kz.add_edge('karaganda', 'oskemen')\n",
    "kz.add_edge('almaty', 'taldykorgan')\n",
    "kz.add_edge('almaty', 'taraz')\n",
    "kz.add_edge('shymkent', 'taraz')\n",
    "kz.add_edge('shymkent', 'kyzylorda')\n",
    "kz.add_edge('kyzylorda', 'zhezkazgan')\n",
    "kz.add_edge('kyzylorda', 'aktobe')\n",
    "kz.add_edge('aktobe', 'kostanay')\n",
    "kz.add_edge('aktobe', 'oral')\n",
    "kz.add_edge('aktobe', 'atyrau')\n",
    "kz.add_edge('atyrau', 'oral')\n",
    "kz.add_edge('atyrau', 'aktau')\n",
    "kz.add_edge('kostanay', 'petropavlovsk')\n",
    "kz.add_edge('kostanay', 'kokshetau')\n",
    "kz.add_edge('petropavlovsk', 'kokshetau')\n",
    "kz.add_edge('pavlodar', 'semey')\n",
    "kz.add_edge('semey', 'oskemen')\n",
    "kz.add_edge('semey', 'taldykorgan')"
   ]
  },
  {
   "cell_type": "code",
   "execution_count": 29,
   "metadata": {},
   "outputs": [
    {
     "data": {
      "text/plain": [
       "[('aktobe', 0.37279411764705883),\n",
       " ('karaganda', 0.29999999999999993),\n",
       " ('astana', 0.2933823529411765),\n",
       " ('kostanay', 0.2833333333333333),\n",
       " ('kyzylorda', 0.2034313725490196)]"
      ]
     },
     "execution_count": 29,
     "metadata": {},
     "output_type": "execute_result"
    }
   ],
   "source": [
    "btwCent = nx.betweenness_centrality(kz, normalized=True, endpoints=False)\n",
    "import operator\n",
    "sorted(btwCent.items(),\n",
    "key=operator.itemgetter(1), reverse=True)[0:5]"
   ]
  },
  {
   "cell_type": "code",
   "execution_count": 30,
   "metadata": {},
   "outputs": [
    {
     "data": {
      "text/plain": [
       "[('aktobe', 0.442483660130719),\n",
       " ('karaganda', 0.37777777777777777),\n",
       " ('astana', 0.37189542483660143),\n",
       " ('kostanay', 0.362962962962963),\n",
       " ('kyzylorda', 0.2919389978213507)]"
      ]
     },
     "execution_count": 30,
     "metadata": {},
     "output_type": "execute_result"
    }
   ],
   "source": [
    "btwCent2 = nx.betweenness_centrality(kz, normalized=True, endpoints=True)\n",
    "import operator\n",
    "sorted(btwCent2.items(),\n",
    "key=operator.itemgetter(1), reverse=True)[0:5]"
   ]
  },
  {
   "cell_type": "code",
   "execution_count": 31,
   "metadata": {},
   "outputs": [
    {
     "data": {
      "text/plain": [
       "{'astana': 4,\n",
       " 'kokshetau': 4,\n",
       " 'karaganda': 5,\n",
       " 'pavlodar': 5,\n",
       " 'semey': 5,\n",
       " 'kostanay': 4,\n",
       " 'almaty': 6,\n",
       " 'zhezkazgan': 4,\n",
       " 'taldykorgan': 6,\n",
       " 'oskemen': 6,\n",
       " 'taraz': 5,\n",
       " 'shymkent': 4,\n",
       " 'kyzylorda': 4,\n",
       " 'aktobe': 4,\n",
       " 'oral': 5,\n",
       " 'atyrau': 5,\n",
       " 'aktau': 6,\n",
       " 'petropavlovsk': 5}"
      ]
     },
     "execution_count": 31,
     "metadata": {},
     "output_type": "execute_result"
    }
   ],
   "source": [
    "nx.eccentricity(kz)"
   ]
  },
  {
   "cell_type": "code",
   "execution_count": 32,
   "metadata": {},
   "outputs": [
    {
     "data": {
      "text/plain": [
       "{'astana': 0.4594594594594595,\n",
       " 'kokshetau': 0.38636363636363635,\n",
       " 'karaganda': 0.4473684210526316,\n",
       " 'pavlodar': 0.38636363636363635,\n",
       " 'semey': 0.37777777777777777,\n",
       " 'kostanay': 0.4473684210526316,\n",
       " 'almaty': 0.3541666666666667,\n",
       " 'zhezkazgan': 0.40476190476190477,\n",
       " 'taldykorgan': 0.3469387755102041,\n",
       " 'oskemen': 0.3269230769230769,\n",
       " 'taraz': 0.3269230769230769,\n",
       " 'shymkent': 0.3333333333333333,\n",
       " 'kyzylorda': 0.4146341463414634,\n",
       " 'aktobe': 0.425,\n",
       " 'oral': 0.3148148148148148,\n",
       " 'atyrau': 0.32075471698113206,\n",
       " 'aktau': 0.2463768115942029,\n",
       " 'petropavlovsk': 0.32075471698113206}"
      ]
     },
     "execution_count": 32,
     "metadata": {},
     "output_type": "execute_result"
    }
   ],
   "source": [
    "nx.closeness_centrality(kz)"
   ]
  }
 ],
 "metadata": {
  "kernelspec": {
   "display_name": "Python 3",
   "language": "python",
   "name": "python3"
  },
  "language_info": {
   "codemirror_mode": {
    "name": "ipython",
    "version": 3
   },
   "file_extension": ".py",
   "mimetype": "text/x-python",
   "name": "python",
   "nbconvert_exporter": "python",
   "pygments_lexer": "ipython3",
   "version": "3.7.6"
  }
 },
 "nbformat": 4,
 "nbformat_minor": 4
}
